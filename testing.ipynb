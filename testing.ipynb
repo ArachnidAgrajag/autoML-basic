{
 "cells": [
  {
   "cell_type": "code",
   "execution_count": 1,
   "id": "1877e292",
   "metadata": {},
   "outputs": [],
   "source": [
    "import preprocessing as pp\n",
    "import modelling as md\n",
    "import pandas as pd"
   ]
  },
  {
   "cell_type": "markdown",
   "id": "178c0671",
   "metadata": {},
   "source": [
    "# Regression Test"
   ]
  },
  {
   "cell_type": "markdown",
   "id": "2f5ec2ee",
   "metadata": {},
   "source": [
    "## Preprocessing"
   ]
  },
  {
   "cell_type": "code",
   "execution_count": 2,
   "id": "bb316536",
   "metadata": {},
   "outputs": [],
   "source": [
    "data = pd.read_csv('datasets/housing.csv')"
   ]
  },
  {
   "cell_type": "code",
   "execution_count": 3,
   "id": "4edc5807",
   "metadata": {},
   "outputs": [
    {
     "name": "stdout",
     "output_type": "stream",
     "text": [
      "Modeling with field specifications:\n",
      "RM: numeric\n",
      "LSTAT: numeric\n",
      "PTRATIO: numeric\n",
      "MEDV: numeric\n"
     ]
    }
   ],
   "source": [
    "field_types_raw = pp.get_input_types(data)"
   ]
  },
  {
   "cell_type": "code",
   "execution_count": 4,
   "id": "394e3d9e",
   "metadata": {},
   "outputs": [
    {
     "name": "stdout",
     "output_type": "stream",
     "text": [
      "column name changes\n",
      "RM: rm\n",
      "LSTAT: lstat\n",
      "PTRATIO: ptratio\n",
      "MEDV: medv\n"
     ]
    }
   ],
   "source": [
    "field_types = pp.normalize_col_names(data,field_types_raw)"
   ]
  },
  {
   "cell_type": "code",
   "execution_count": 5,
   "id": "5729a956",
   "metadata": {},
   "outputs": [],
   "source": [
    "target='medv'"
   ]
  },
  {
   "cell_type": "code",
   "execution_count": 6,
   "id": "4deeb617",
   "metadata": {},
   "outputs": [
    {
     "name": "stdout",
     "output_type": "stream",
     "text": [
      "regression\n"
     ]
    }
   ],
   "source": [
    "problem = pp.identify_problem_type(data,field_types,target)\n",
    "print(problem)"
   ]
  },
  {
   "cell_type": "code",
   "execution_count": 7,
   "id": "45b06d6b",
   "metadata": {},
   "outputs": [],
   "source": [
    "data_prop, field_types = pp.proper_dataframe(data,field_types,target,problem)"
   ]
  },
  {
   "cell_type": "code",
   "execution_count": 8,
   "id": "a80e9fa1",
   "metadata": {},
   "outputs": [
    {
     "name": "stdout",
     "output_type": "stream",
     "text": [
      "No null values found\n"
     ]
    }
   ],
   "source": [
    "data_no_null,drop_cols = pp.handle_null_values(data_prop)"
   ]
  },
  {
   "cell_type": "code",
   "execution_count": 9,
   "id": "68306943",
   "metadata": {},
   "outputs": [
    {
     "data": {
      "text/html": [
       "<div>\n",
       "<style scoped>\n",
       "    .dataframe tbody tr th:only-of-type {\n",
       "        vertical-align: middle;\n",
       "    }\n",
       "\n",
       "    .dataframe tbody tr th {\n",
       "        vertical-align: top;\n",
       "    }\n",
       "\n",
       "    .dataframe thead th {\n",
       "        text-align: right;\n",
       "    }\n",
       "</style>\n",
       "<table border=\"1\" class=\"dataframe\">\n",
       "  <thead>\n",
       "    <tr style=\"text-align: right;\">\n",
       "      <th></th>\n",
       "      <th>rm</th>\n",
       "      <th>lstat</th>\n",
       "      <th>ptratio</th>\n",
       "      <th>medv</th>\n",
       "    </tr>\n",
       "  </thead>\n",
       "  <tbody>\n",
       "    <tr>\n",
       "      <th>0</th>\n",
       "      <td>6.575</td>\n",
       "      <td>4.98</td>\n",
       "      <td>15.3</td>\n",
       "      <td>504000.0</td>\n",
       "    </tr>\n",
       "    <tr>\n",
       "      <th>1</th>\n",
       "      <td>6.421</td>\n",
       "      <td>9.14</td>\n",
       "      <td>17.8</td>\n",
       "      <td>453600.0</td>\n",
       "    </tr>\n",
       "    <tr>\n",
       "      <th>2</th>\n",
       "      <td>7.185</td>\n",
       "      <td>4.03</td>\n",
       "      <td>17.8</td>\n",
       "      <td>728700.0</td>\n",
       "    </tr>\n",
       "    <tr>\n",
       "      <th>3</th>\n",
       "      <td>6.998</td>\n",
       "      <td>2.94</td>\n",
       "      <td>18.7</td>\n",
       "      <td>701400.0</td>\n",
       "    </tr>\n",
       "    <tr>\n",
       "      <th>4</th>\n",
       "      <td>7.147</td>\n",
       "      <td>5.33</td>\n",
       "      <td>18.7</td>\n",
       "      <td>760200.0</td>\n",
       "    </tr>\n",
       "  </tbody>\n",
       "</table>\n",
       "</div>"
      ],
      "text/plain": [
       "      rm  lstat  ptratio      medv\n",
       "0  6.575   4.98     15.3  504000.0\n",
       "1  6.421   9.14     17.8  453600.0\n",
       "2  7.185   4.03     17.8  728700.0\n",
       "3  6.998   2.94     18.7  701400.0\n",
       "4  7.147   5.33     18.7  760200.0"
      ]
     },
     "execution_count": 9,
     "metadata": {},
     "output_type": "execute_result"
    }
   ],
   "source": [
    "data_no_null.head()"
   ]
  },
  {
   "cell_type": "code",
   "execution_count": 10,
   "id": "75bbb2b4",
   "metadata": {},
   "outputs": [],
   "source": [
    "data_norm = pp.normalisation(data_no_null,target,field_types)"
   ]
  },
  {
   "cell_type": "code",
   "execution_count": 11,
   "id": "ba7ef493",
   "metadata": {},
   "outputs": [
    {
     "data": {
      "text/plain": [
       "(489, 4)"
      ]
     },
     "execution_count": 11,
     "metadata": {},
     "output_type": "execute_result"
    }
   ],
   "source": [
    "data_norm.shape"
   ]
  },
  {
   "cell_type": "code",
   "execution_count": 12,
   "id": "30743d9e",
   "metadata": {},
   "outputs": [],
   "source": [
    "count = pp.remove_outliers(data_norm,target,field_types)"
   ]
  },
  {
   "cell_type": "code",
   "execution_count": 13,
   "id": "a11f4b99",
   "metadata": {},
   "outputs": [
    {
     "name": "stdout",
     "output_type": "stream",
     "text": [
      "38\n"
     ]
    }
   ],
   "source": [
    "print(count)"
   ]
  },
  {
   "cell_type": "code",
   "execution_count": 14,
   "id": "9cbce515",
   "metadata": {},
   "outputs": [
    {
     "data": {
      "text/plain": [
       "(451, 4)"
      ]
     },
     "execution_count": 14,
     "metadata": {},
     "output_type": "execute_result"
    }
   ],
   "source": [
    "data_norm.shape"
   ]
  },
  {
   "cell_type": "code",
   "execution_count": 15,
   "id": "1e116f32",
   "metadata": {},
   "outputs": [
    {
     "name": "stdout",
     "output_type": "stream",
     "text": [
      "0\n"
     ]
    }
   ],
   "source": [
    "data_pca,n = pp.pca_df(data_norm,target,field_types)\n",
    "print(n)"
   ]
  },
  {
   "cell_type": "code",
   "execution_count": 16,
   "id": "c6edf826",
   "metadata": {},
   "outputs": [],
   "source": [
    "pp.save_final_df(data_pca,'housing')"
   ]
  },
  {
   "cell_type": "code",
   "execution_count": 17,
   "id": "68b991a7",
   "metadata": {},
   "outputs": [
    {
     "data": {
      "text/html": [
       "<div>\n",
       "<style scoped>\n",
       "    .dataframe tbody tr th:only-of-type {\n",
       "        vertical-align: middle;\n",
       "    }\n",
       "\n",
       "    .dataframe tbody tr th {\n",
       "        vertical-align: top;\n",
       "    }\n",
       "\n",
       "    .dataframe thead th {\n",
       "        text-align: right;\n",
       "    }\n",
       "</style>\n",
       "<table border=\"1\" class=\"dataframe\">\n",
       "  <thead>\n",
       "    <tr style=\"text-align: right;\">\n",
       "      <th></th>\n",
       "      <th>rm</th>\n",
       "      <th>lstat</th>\n",
       "      <th>ptratio</th>\n",
       "      <th>medv</th>\n",
       "    </tr>\n",
       "  </thead>\n",
       "  <tbody>\n",
       "    <tr>\n",
       "      <th>0</th>\n",
       "      <td>0.520554</td>\n",
       "      <td>-1.125077</td>\n",
       "      <td>-1.525083</td>\n",
       "      <td>504000.0</td>\n",
       "    </tr>\n",
       "    <tr>\n",
       "      <th>1</th>\n",
       "      <td>0.281048</td>\n",
       "      <td>-0.537070</td>\n",
       "      <td>-0.339748</td>\n",
       "      <td>453600.0</td>\n",
       "    </tr>\n",
       "    <tr>\n",
       "      <th>2</th>\n",
       "      <td>1.469245</td>\n",
       "      <td>-1.259357</td>\n",
       "      <td>-0.339748</td>\n",
       "      <td>728700.0</td>\n",
       "    </tr>\n",
       "    <tr>\n",
       "      <th>3</th>\n",
       "      <td>1.178417</td>\n",
       "      <td>-1.413427</td>\n",
       "      <td>0.086973</td>\n",
       "      <td>701400.0</td>\n",
       "    </tr>\n",
       "    <tr>\n",
       "      <th>4</th>\n",
       "      <td>1.410146</td>\n",
       "      <td>-1.075605</td>\n",
       "      <td>0.086973</td>\n",
       "      <td>760200.0</td>\n",
       "    </tr>\n",
       "  </tbody>\n",
       "</table>\n",
       "</div>"
      ],
      "text/plain": [
       "         rm     lstat   ptratio      medv\n",
       "0  0.520554 -1.125077 -1.525083  504000.0\n",
       "1  0.281048 -0.537070 -0.339748  453600.0\n",
       "2  1.469245 -1.259357 -0.339748  728700.0\n",
       "3  1.178417 -1.413427  0.086973  701400.0\n",
       "4  1.410146 -1.075605  0.086973  760200.0"
      ]
     },
     "execution_count": 17,
     "metadata": {},
     "output_type": "execute_result"
    }
   ],
   "source": [
    "data_pca.head()"
   ]
  },
  {
   "cell_type": "markdown",
   "id": "84da8315",
   "metadata": {},
   "source": [
    "## Modelling"
   ]
  },
  {
   "cell_type": "code",
   "execution_count": 18,
   "id": "50dc0292",
   "metadata": {},
   "outputs": [
    {
     "name": "stdout",
     "output_type": "stream",
     "text": [
      "Mean Square Error = 7143458212.741232\n",
      "Mean Absolute Erroe = 68042.55779464041\n",
      "Coefficient Of Determination  = 0.5420948663388281\n",
      "\n",
      "Mean Square Error = 5132539167.913235\n",
      "Mean Absolute Erroe = 52169.131158487166\n",
      "Coefficient Of Determination  = 0.7513156316999068\n",
      "\n",
      "Mean Square Error = 4478787341.765231\n",
      "Mean Absolute Erroe = 51872.92841477971\n",
      "Coefficient Of Determination  = 0.6996511703402989\n",
      "\n",
      "Mean Square Error = 5495627801.5811405\n",
      "Mean Absolute Erroe = 58305.67210589143\n",
      "Coefficient Of Determination  = 0.45443850377680506\n",
      "\n",
      "Mean Square Error = 4300316654.896244\n",
      "Mean Absolute Erroe = 51127.39139447738\n",
      "Coefficient Of Determination  = 0.6103207835479437\n",
      "\n",
      "Mean Square Error = 6605138113.499213\n",
      "Mean Absolute Erroe = 65480.87855174071\n",
      "Coefficient Of Determination  = 0.4429552967828069\n",
      "\n",
      "Mean Square Error = 5235776362.236119\n",
      "Mean Absolute Erroe = 48632.42024373121\n",
      "Coefficient Of Determination  = 0.5871864983105195\n",
      "\n",
      "Mean Square Error = 9871312108.641861\n",
      "Mean Absolute Erroe = 74893.69574537851\n",
      "Coefficient Of Determination  = 0.3598374734551716\n",
      "\n",
      "Mean Square Error = 5747197090.344929\n",
      "Mean Absolute Erroe = 55091.268397168285\n",
      "Coefficient Of Determination  = 0.5112483105492392\n",
      "\n",
      "Mean Square Error = 4178649572.0718236\n",
      "Mean Absolute Erroe = 55022.27612939818\n",
      "Coefficient Of Determination  = 0.6385357481783527\n",
      "\n"
     ]
    },
    {
     "data": {
      "text/plain": [
       "{'mse': 5818880242.569102, 'mae': 58063.8219935693, 'R2': 0.5597584282979872}"
      ]
     },
     "execution_count": 18,
     "metadata": {},
     "output_type": "execute_result"
    }
   ],
   "source": [
    "md.Linear_model(data_pca,target)"
   ]
  },
  {
   "cell_type": "code",
   "execution_count": 19,
   "id": "4e8906e7",
   "metadata": {},
   "outputs": [
    {
     "name": "stdout",
     "output_type": "stream",
     "text": [
      "Best alpha = 0.19473684210526315\n",
      "Mean Square Error = 4900017817.103583\n",
      "Mean Absolute Erroe = 54596.38986973894\n",
      "Coefficient Of Determination  = 0.5345265754230287\n",
      "\n",
      "Mean Square Error = 5985647400.731803\n",
      "Mean Absolute Erroe = 64089.4558357576\n",
      "Coefficient Of Determination  = 0.45046293701224827\n",
      "\n",
      "Mean Square Error = 4199782240.254267\n",
      "Mean Absolute Erroe = 47294.8408719858\n",
      "Coefficient Of Determination  = 0.6116572131181943\n",
      "\n",
      "Mean Square Error = 7730387015.971079\n",
      "Mean Absolute Erroe = 66766.54166044737\n",
      "Coefficient Of Determination  = 0.5473972925174317\n",
      "\n",
      "Mean Square Error = 4221579421.2871237\n",
      "Mean Absolute Erroe = 53695.63674214063\n",
      "Coefficient Of Determination  = 0.7042492446890551\n",
      "\n",
      "Mean Square Error = 5000483277.145006\n",
      "Mean Absolute Erroe = 52708.82129156972\n",
      "Coefficient Of Determination  = 0.6117593325678721\n",
      "\n",
      "Mean Square Error = 10779840532.390736\n",
      "Mean Absolute Erroe = 77384.79821826534\n",
      "Coefficient Of Determination  = 0.4233558253270796\n",
      "\n",
      "Mean Square Error = 5640208466.108365\n",
      "Mean Absolute Erroe = 58800.91010360773\n",
      "Coefficient Of Determination  = 0.4854375142603987\n",
      "\n",
      "Mean Square Error = 5386184075.8390465\n",
      "Mean Absolute Erroe = 57632.96085304678\n",
      "Coefficient Of Determination  = 0.6286816317556967\n",
      "\n",
      "Mean Square Error = 3868470812.2956457\n",
      "Mean Absolute Erroe = 46087.03066460816\n",
      "Coefficient Of Determination  = 0.7079080583222987\n",
      "\n"
     ]
    },
    {
     "data": {
      "text/plain": [
       "{'mse': 5771260105.912665, 'mae': 57905.73861111681, 'R2': 0.5705435624993304}"
      ]
     },
     "execution_count": 19,
     "metadata": {},
     "output_type": "execute_result"
    }
   ],
   "source": [
    "md.Lasso_model(data_pca,target)"
   ]
  },
  {
   "cell_type": "code",
   "execution_count": 20,
   "id": "742a9ee4",
   "metadata": {},
   "outputs": [
    {
     "name": "stdout",
     "output_type": "stream",
     "text": [
      "Best alpha = 0.1\n",
      "Mean Square Error = 4900745606.760037\n",
      "Mean Absolute Erroe = 54597.514516983494\n",
      "Coefficient Of Determination  = 0.5342842409761771\n",
      "\n",
      "Mean Square Error = 5985784683.01374\n",
      "Mean Absolute Erroe = 64089.80629528014\n",
      "Coefficient Of Determination  = 0.45024703117874343\n",
      "\n",
      "Mean Square Error = 4199596867.466983\n",
      "Mean Absolute Erroe = 47291.17763493847\n",
      "Coefficient Of Determination  = 0.6115226394387067\n",
      "\n",
      "Mean Square Error = 7730598532.541362\n",
      "Mean Absolute Erroe = 66765.44395376356\n",
      "Coefficient Of Determination  = 0.547206870615773\n",
      "\n",
      "Mean Square Error = 4220720876.623469\n",
      "Mean Absolute Erroe = 53688.14050355445\n",
      "Coefficient Of Determination  = 0.7041929794507509\n",
      "\n",
      "Mean Square Error = 5000962066.897168\n",
      "Mean Absolute Erroe = 52711.7913050181\n",
      "Coefficient Of Determination  = 0.6115495629063782\n",
      "\n",
      "Mean Square Error = 10778600135.494423\n",
      "Mean Absolute Erroe = 77384.35894190005\n",
      "Coefficient Of Determination  = 0.42320190938517155\n",
      "\n",
      "Mean Square Error = 5640953772.094845\n",
      "Mean Absolute Erroe = 58803.76870725412\n",
      "Coefficient Of Determination  = 0.48517723031124704\n",
      "\n",
      "Mean Square Error = 5385830705.1755905\n",
      "Mean Absolute Erroe = 57628.20644658017\n",
      "Coefficient Of Determination  = 0.6285558955168565\n",
      "\n",
      "Mean Square Error = 3867900605.9392166\n",
      "Mean Absolute Erroe = 46085.50678217558\n",
      "Coefficient Of Determination  = 0.7078343677899344\n",
      "\n"
     ]
    },
    {
     "data": {
      "text/plain": [
       "{'mse': 5771169385.200684, 'mae': 57904.571508744826, 'R2': 0.5703772727569738}"
      ]
     },
     "execution_count": 20,
     "metadata": {},
     "output_type": "execute_result"
    }
   ],
   "source": [
    "md.Ridge_model(data_pca,target)"
   ]
  },
  {
   "cell_type": "code",
   "execution_count": 21,
   "id": "9552c4c2",
   "metadata": {},
   "outputs": [
    {
     "name": "stdout",
     "output_type": "stream",
     "text": [
      "Best alpha = 0.1\n",
      "Best l1_ratio = 0.2631578947368421\n",
      "Mean Square Error = 5146431796.142874\n",
      "Mean Absolute Erroe = 55055.14123278095\n",
      "Coefficient Of Determination  = 0.4547838510667468\n",
      "\n",
      "Mean Square Error = 6045940386.06914\n",
      "Mean Absolute Erroe = 64124.67036557852\n",
      "Coefficient Of Determination  = 0.38121053944811367\n",
      "\n",
      "Mean Square Error = 4183578717.7062025\n",
      "Mean Absolute Erroe = 46797.67055590598\n",
      "Coefficient Of Determination  = 0.566335690761653\n",
      "\n",
      "Mean Square Error = 7843725765.02438\n",
      "Mean Absolute Erroe = 67128.73395625579\n",
      "Coefficient Of Determination  = 0.48446621119070965\n",
      "\n",
      "Mean Square Error = 4034877981.0313783\n",
      "Mean Absolute Erroe = 52012.40481642824\n",
      "Coefficient Of Determination  = 0.6829140842111229\n",
      "\n",
      "Mean Square Error = 5196405838.131717\n",
      "Mean Absolute Erroe = 54058.25760183023\n",
      "Coefficient Of Determination  = 0.5419641945653135\n",
      "\n",
      "Mean Square Error = 10485118629.923428\n",
      "Mean Absolute Erroe = 77274.68804535852\n",
      "Coefficient Of Determination  = 0.37194711336319375\n",
      "\n",
      "Mean Square Error = 5875433314.665158\n",
      "Mean Absolute Erroe = 59624.16639557483\n",
      "Coefficient Of Determination  = 0.40184161225325987\n",
      "\n",
      "Mean Square Error = 5340132456.280186\n",
      "Mean Absolute Erroe = 56406.83390371323\n",
      "Coefficient Of Determination  = 0.5859006050102591\n",
      "\n",
      "Mean Square Error = 3770074866.1660123\n",
      "Mean Absolute Erroe = 45858.56569268081\n",
      "Coefficient Of Determination  = 0.6801452738528632\n",
      "\n"
     ]
    },
    {
     "data": {
      "text/plain": [
       "{'mse': 5792171975.114049, 'mae': 57834.11325661071, 'R2': 0.5151509175723236}"
      ]
     },
     "execution_count": 21,
     "metadata": {},
     "output_type": "execute_result"
    }
   ],
   "source": [
    "md.elastinet_model(data_pca,target)"
   ]
  },
  {
   "cell_type": "code",
   "execution_count": 22,
   "id": "df5fa52b",
   "metadata": {},
   "outputs": [
    {
     "name": "stdout",
     "output_type": "stream",
     "text": [
      "Best n_neighbors = 12\n",
      "Best weights = distance\n",
      "Mean Square Error = 2915354804.5620027\n",
      "Mean Absolute Erroe = 41690.55788808102\n",
      "Coefficient Of Determination  = 0.777573115348609\n",
      "\n",
      "Mean Square Error = 4070431329.037577\n",
      "Mean Absolute Erroe = 48971.03768180161\n",
      "Coefficient Of Determination  = 0.6495730713757389\n",
      "\n",
      "Mean Square Error = 4795383895.762947\n",
      "Mean Absolute Erroe = 49197.68471480333\n",
      "Coefficient Of Determination  = 0.5291208406052503\n",
      "\n",
      "Mean Square Error = 6331302913.78071\n",
      "Mean Absolute Erroe = 60903.695742043376\n",
      "Coefficient Of Determination  = 0.6747808637260615\n",
      "\n",
      "Mean Square Error = 2864898630.2325444\n",
      "Mean Absolute Erroe = 41039.78904593093\n",
      "Coefficient Of Determination  = 0.7808290661757133\n",
      "\n",
      "Mean Square Error = 4441551614.807459\n",
      "Mean Absolute Erroe = 51209.428463348646\n",
      "Coefficient Of Determination  = 0.6609749096252344\n",
      "\n",
      "Mean Square Error = 6982534468.4320135\n",
      "Mean Absolute Erroe = 59480.345083789194\n",
      "Coefficient Of Determination  = 0.6245378593091193\n",
      "\n",
      "Mean Square Error = 3813005149.1555114\n",
      "Mean Absolute Erroe = 46724.77370337829\n",
      "Coefficient Of Determination  = 0.7334463328857074\n",
      "\n",
      "Mean Square Error = 3467613840.073361\n",
      "Mean Absolute Erroe = 45918.94832120062\n",
      "Coefficient Of Determination  = 0.7903962965690168\n",
      "\n",
      "Mean Square Error = 4566630621.160452\n",
      "Mean Absolute Erroe = 45244.37121699446\n",
      "Coefficient Of Determination  = 0.6991987838318312\n",
      "\n"
     ]
    },
    {
     "data": {
      "text/plain": [
       "{'mse': 4424870726.700458, 'mae': 49038.063186137144, 'R2': 0.6920431139452282}"
      ]
     },
     "execution_count": 22,
     "metadata": {},
     "output_type": "execute_result"
    }
   ],
   "source": [
    "md.KNNReg_model(data_pca,target)"
   ]
  },
  {
   "cell_type": "markdown",
   "id": "5514493d",
   "metadata": {},
   "source": [
    "# Classification Test - Continuos Input Features"
   ]
  },
  {
   "cell_type": "markdown",
   "id": "16f39c23",
   "metadata": {},
   "source": [
    "## Preprocessing"
   ]
  },
  {
   "cell_type": "code",
   "execution_count": 23,
   "id": "6ce818e2",
   "metadata": {},
   "outputs": [],
   "source": [
    "data = pd.read_csv('datasets/breast_cancer.csv')"
   ]
  },
  {
   "cell_type": "code",
   "execution_count": 24,
   "id": "d95295b6",
   "metadata": {},
   "outputs": [
    {
     "name": "stdout",
     "output_type": "stream",
     "text": [
      "Modeling with field specifications:\n",
      "mean_radius: numeric\n",
      "mean_texture: numeric\n",
      "mean_perimeter: numeric\n",
      "mean_area: numeric\n",
      "mean_smoothness: numeric\n",
      "diagnosis: categorical\n"
     ]
    }
   ],
   "source": [
    "field_types_raw = pp.get_input_types(data)"
   ]
  },
  {
   "cell_type": "code",
   "execution_count": 25,
   "id": "47749c53",
   "metadata": {},
   "outputs": [
    {
     "name": "stdout",
     "output_type": "stream",
     "text": [
      "column name changes\n",
      "mean_radius: mean_radius\n",
      "mean_texture: mean_texture\n",
      "mean_perimeter: mean_perimeter\n",
      "mean_area: mean_area\n",
      "mean_smoothness: mean_smoothness\n",
      "diagnosis: diagnosis\n"
     ]
    }
   ],
   "source": [
    "field_types = pp.normalize_col_names(data,field_types_raw)"
   ]
  },
  {
   "cell_type": "code",
   "execution_count": 26,
   "id": "fe4299ab",
   "metadata": {},
   "outputs": [],
   "source": [
    "target='diagnosis'"
   ]
  },
  {
   "cell_type": "code",
   "execution_count": 27,
   "id": "0857ac92",
   "metadata": {},
   "outputs": [
    {
     "name": "stdout",
     "output_type": "stream",
     "text": [
      "classification\n"
     ]
    }
   ],
   "source": [
    "problem = pp.identify_problem_type(data,field_types,target)\n",
    "print(problem)"
   ]
  },
  {
   "cell_type": "code",
   "execution_count": 28,
   "id": "895dc724",
   "metadata": {},
   "outputs": [],
   "source": [
    "data_prop, field_types = pp.proper_dataframe(data,field_types,target,problem)"
   ]
  },
  {
   "cell_type": "code",
   "execution_count": 29,
   "id": "11f02982",
   "metadata": {},
   "outputs": [
    {
     "name": "stdout",
     "output_type": "stream",
     "text": [
      "No null values found\n"
     ]
    }
   ],
   "source": [
    "data_no_null,drop_cols = pp.handle_null_values(data_prop)"
   ]
  },
  {
   "cell_type": "code",
   "execution_count": 30,
   "id": "8bd92194",
   "metadata": {},
   "outputs": [],
   "source": [
    "data_norm = pp.normalisation(data_no_null,target,field_types)"
   ]
  },
  {
   "cell_type": "code",
   "execution_count": 31,
   "id": "b77f67cc",
   "metadata": {},
   "outputs": [],
   "source": [
    "count = pp.remove_outliers(data_norm,target,field_types)"
   ]
  },
  {
   "cell_type": "code",
   "execution_count": 32,
   "id": "9081ba04",
   "metadata": {},
   "outputs": [
    {
     "name": "stdout",
     "output_type": "stream",
     "text": [
      "36\n"
     ]
    }
   ],
   "source": [
    "print(count)"
   ]
  },
  {
   "cell_type": "code",
   "execution_count": 33,
   "id": "c833666f",
   "metadata": {},
   "outputs": [
    {
     "name": "stdout",
     "output_type": "stream",
     "text": [
      "0\n"
     ]
    }
   ],
   "source": [
    "data_pca,n = pp.pca_df(data_norm,target,field_types)\n",
    "print(n)"
   ]
  },
  {
   "cell_type": "code",
   "execution_count": 34,
   "id": "ec8203f8",
   "metadata": {},
   "outputs": [],
   "source": [
    "pp.save_final_df(data_pca,'breast_cancer')"
   ]
  },
  {
   "cell_type": "code",
   "execution_count": 35,
   "id": "8361766d",
   "metadata": {},
   "outputs": [
    {
     "data": {
      "text/html": [
       "<div>\n",
       "<style scoped>\n",
       "    .dataframe tbody tr th:only-of-type {\n",
       "        vertical-align: middle;\n",
       "    }\n",
       "\n",
       "    .dataframe tbody tr th {\n",
       "        vertical-align: top;\n",
       "    }\n",
       "\n",
       "    .dataframe thead th {\n",
       "        text-align: right;\n",
       "    }\n",
       "</style>\n",
       "<table border=\"1\" class=\"dataframe\">\n",
       "  <thead>\n",
       "    <tr style=\"text-align: right;\">\n",
       "      <th></th>\n",
       "      <th>mean_radius</th>\n",
       "      <th>mean_texture</th>\n",
       "      <th>mean_perimeter</th>\n",
       "      <th>mean_area</th>\n",
       "      <th>mean_smoothness</th>\n",
       "      <th>diagnosis</th>\n",
       "    </tr>\n",
       "  </thead>\n",
       "  <tbody>\n",
       "    <tr>\n",
       "      <th>0</th>\n",
       "      <td>1.097064</td>\n",
       "      <td>-2.073335</td>\n",
       "      <td>1.269934</td>\n",
       "      <td>0.984375</td>\n",
       "      <td>1.568466</td>\n",
       "      <td>0</td>\n",
       "    </tr>\n",
       "    <tr>\n",
       "      <th>1</th>\n",
       "      <td>1.829821</td>\n",
       "      <td>-0.353632</td>\n",
       "      <td>1.685955</td>\n",
       "      <td>1.908708</td>\n",
       "      <td>-0.826962</td>\n",
       "      <td>0</td>\n",
       "    </tr>\n",
       "    <tr>\n",
       "      <th>2</th>\n",
       "      <td>1.579888</td>\n",
       "      <td>0.456187</td>\n",
       "      <td>1.566503</td>\n",
       "      <td>1.558884</td>\n",
       "      <td>0.942210</td>\n",
       "      <td>0</td>\n",
       "    </tr>\n",
       "    <tr>\n",
       "      <th>3</th>\n",
       "      <td>1.750297</td>\n",
       "      <td>-1.151816</td>\n",
       "      <td>1.776573</td>\n",
       "      <td>1.826229</td>\n",
       "      <td>0.280372</td>\n",
       "      <td>0</td>\n",
       "    </tr>\n",
       "    <tr>\n",
       "      <th>4</th>\n",
       "      <td>-0.476375</td>\n",
       "      <td>-0.835335</td>\n",
       "      <td>-0.387148</td>\n",
       "      <td>-0.505650</td>\n",
       "      <td>2.237421</td>\n",
       "      <td>0</td>\n",
       "    </tr>\n",
       "  </tbody>\n",
       "</table>\n",
       "</div>"
      ],
      "text/plain": [
       "   mean_radius  mean_texture  mean_perimeter  mean_area  mean_smoothness  \\\n",
       "0     1.097064     -2.073335        1.269934   0.984375         1.568466   \n",
       "1     1.829821     -0.353632        1.685955   1.908708        -0.826962   \n",
       "2     1.579888      0.456187        1.566503   1.558884         0.942210   \n",
       "3     1.750297     -1.151816        1.776573   1.826229         0.280372   \n",
       "4    -0.476375     -0.835335       -0.387148  -0.505650         2.237421   \n",
       "\n",
       "   diagnosis  \n",
       "0          0  \n",
       "1          0  \n",
       "2          0  \n",
       "3          0  \n",
       "4          0  "
      ]
     },
     "execution_count": 35,
     "metadata": {},
     "output_type": "execute_result"
    }
   ],
   "source": [
    "data_pca.head()"
   ]
  },
  {
   "cell_type": "code",
   "execution_count": 36,
   "id": "6a607bfd",
   "metadata": {},
   "outputs": [
    {
     "name": "stdout",
     "output_type": "stream",
     "text": [
      "Best penalty = l2\n",
      "Best C = 6.158482110660264\n",
      "Best l1_ratio = 0.05263157894736842\n",
      "Confusion Matrix\n",
      "[[17  1]\n",
      " [ 2 34]]\n",
      "Accuracy = 0.9444444444444444\n",
      "Recall [Neg Pos] = 0.9444444444444444\n",
      "Precision [Neg Pos] = 0.9714285714285714\n",
      "F1 score [Neg Pos]  = 0.9577464788732395\n",
      "AUC = 0.5413533834586466\n",
      "Confusion Matrix\n",
      "[[16  2]\n",
      " [ 2 34]]\n",
      "Accuracy = 0.9259259259259259\n",
      "Recall [Neg Pos] = 0.9444444444444444\n",
      "Precision [Neg Pos] = 0.9444444444444444\n",
      "F1 score [Neg Pos]  = 0.9444444444444444\n",
      "AUC = 0.7175925925925926\n",
      "Confusion Matrix\n",
      "[[16  3]\n",
      " [ 2 33]]\n",
      "Accuracy = 0.9074074074074074\n",
      "Recall [Neg Pos] = 0.9428571428571428\n",
      "Precision [Neg Pos] = 0.9166666666666666\n",
      "F1 score [Neg Pos]  = 0.9295774647887323\n",
      "AUC = 0.441358024691358\n",
      "Confusion Matrix\n",
      "[[15  0]\n",
      " [ 3 35]]\n",
      "Accuracy = 0.9433962264150944\n",
      "Recall [Neg Pos] = 0.9210526315789473\n",
      "Precision [Neg Pos] = 1.0\n",
      "F1 score [Neg Pos]  = 0.958904109589041\n",
      "AUC = 0.5253968253968254\n",
      "Confusion Matrix\n",
      "[[17  2]\n",
      " [ 1 33]]\n",
      "Accuracy = 0.9433962264150944\n",
      "Recall [Neg Pos] = 0.9705882352941176\n",
      "Precision [Neg Pos] = 0.9428571428571428\n",
      "F1 score [Neg Pos]  = 0.9565217391304348\n",
      "AUC = 0.5015873015873016\n",
      "Confusion Matrix\n",
      "[[16  2]\n",
      " [ 2 33]]\n",
      "Accuracy = 0.9245283018867925\n",
      "Recall [Neg Pos] = 0.9428571428571428\n",
      "Precision [Neg Pos] = 0.9428571428571428\n",
      "F1 score [Neg Pos]  = 0.9428571428571428\n",
      "AUC = 0.36666666666666664\n",
      "Confusion Matrix\n",
      "[[14  1]\n",
      " [ 4 34]]\n",
      "Accuracy = 0.9056603773584906\n",
      "Recall [Neg Pos] = 0.8947368421052632\n",
      "Precision [Neg Pos] = 0.9714285714285714\n",
      "F1 score [Neg Pos]  = 0.9315068493150684\n",
      "AUC = 0.4888888888888889\n",
      "Confusion Matrix\n",
      "[[16  2]\n",
      " [ 2 33]]\n",
      "Accuracy = 0.9245283018867925\n",
      "Recall [Neg Pos] = 0.9428571428571428\n",
      "Precision [Neg Pos] = 0.9428571428571428\n",
      "F1 score [Neg Pos]  = 0.9428571428571428\n",
      "AUC = 0.49682539682539684\n",
      "Confusion Matrix\n",
      "[[16  2]\n",
      " [ 2 33]]\n",
      "Accuracy = 0.9245283018867925\n",
      "Recall [Neg Pos] = 0.9428571428571428\n",
      "Precision [Neg Pos] = 0.9428571428571428\n",
      "F1 score [Neg Pos]  = 0.9428571428571428\n",
      "AUC = 0.45714285714285713\n",
      "Confusion Matrix\n",
      "[[16  0]\n",
      " [ 2 35]]\n",
      "Accuracy = 0.9622641509433962\n",
      "Recall [Neg Pos] = 0.9459459459459459\n",
      "Precision [Neg Pos] = 1.0\n",
      "F1 score [Neg Pos]  = 0.9722222222222222\n",
      "AUC = 0.5619047619047619\n"
     ]
    },
    {
     "data": {
      "text/plain": [
       "{'accuracy': 0.930607966457023,\n",
       " 'precision': 0.9575396825396826,\n",
       " 'recall': 0.9392641115241733,\n",
       " 'F1': 0.947949473693461,\n",
       " 'AUC': 0.5098716699155295}"
      ]
     },
     "execution_count": 36,
     "metadata": {},
     "output_type": "execute_result"
    },
    {
     "data": {
      "image/png": "[encoded data removed]",
      "text/plain": [
       "<Figure size 432x288 with 1 Axes>"
      ]
     },
     "metadata": {
      "needs_background": "light"
     },
     "output_type": "display_data"
    }
   ],
   "source": [
    "md.Logistic_model(data_pca,target)"
   ]
  },
  {
   "cell_type": "code",
   "execution_count": 37,
   "id": "46ce5c17",
   "metadata": {},
   "outputs": [
    {
     "name": "stdout",
     "output_type": "stream",
     "text": [
      "Best n_neighbors = 14\n",
      "Best weights = distance\n",
      "Confusion Matrix\n",
      "[[16  2]\n",
      " [ 3 33]]\n",
      "Accuracy = 0.9074074074074074\n",
      "Recall [Neg Pos] = 0.9166666666666666\n",
      "Precision [Neg Pos] = 0.9428571428571428\n",
      "F1 score [Neg Pos]  = 0.9295774647887323\n",
      "AUC = 0.5616541353383459\n",
      "Confusion Matrix\n",
      "[[15  2]\n",
      " [ 3 34]]\n",
      "Accuracy = 0.9074074074074074\n",
      "Recall [Neg Pos] = 0.918918918918919\n",
      "Precision [Neg Pos] = 0.9444444444444444\n",
      "F1 score [Neg Pos]  = 0.9315068493150684\n",
      "AUC = 0.6689814814814815\n",
      "Confusion Matrix\n",
      "[[16  3]\n",
      " [ 2 33]]\n",
      "Accuracy = 0.9074074074074074\n",
      "Recall [Neg Pos] = 0.9428571428571428\n",
      "Precision [Neg Pos] = 0.9166666666666666\n",
      "F1 score [Neg Pos]  = 0.9295774647887323\n",
      "AUC = 0.47530864197530864\n",
      "Confusion Matrix\n",
      "[[13  1]\n",
      " [ 5 34]]\n",
      "Accuracy = 0.8867924528301887\n",
      "Recall [Neg Pos] = 0.8717948717948718\n",
      "Precision [Neg Pos] = 0.9714285714285714\n",
      "F1 score [Neg Pos]  = 0.9189189189189189\n",
      "AUC = 0.5952380952380952\n",
      "Confusion Matrix\n",
      "[[16  1]\n",
      " [ 2 34]]\n",
      "Accuracy = 0.9433962264150944\n",
      "Recall [Neg Pos] = 0.9444444444444444\n",
      "Precision [Neg Pos] = 0.9714285714285714\n",
      "F1 score [Neg Pos]  = 0.9577464788732395\n",
      "AUC = 0.4642857142857143\n",
      "Confusion Matrix\n",
      "[[16  1]\n",
      " [ 2 34]]\n",
      "Accuracy = 0.9433962264150944\n",
      "Recall [Neg Pos] = 0.9444444444444444\n",
      "Precision [Neg Pos] = 0.9714285714285714\n",
      "F1 score [Neg Pos]  = 0.9577464788732395\n",
      "AUC = 0.45079365079365075\n",
      "Confusion Matrix\n",
      "[[14  0]\n",
      " [ 4 35]]\n",
      "Accuracy = 0.9245283018867925\n",
      "Recall [Neg Pos] = 0.8974358974358975\n",
      "Precision [Neg Pos] = 1.0\n",
      "F1 score [Neg Pos]  = 0.945945945945946\n",
      "AUC = 0.5388888888888889\n",
      "Confusion Matrix\n",
      "[[17  1]\n",
      " [ 1 34]]\n",
      "Accuracy = 0.9622641509433962\n",
      "Recall [Neg Pos] = 0.9714285714285714\n",
      "Precision [Neg Pos] = 0.9714285714285714\n",
      "F1 score [Neg Pos]  = 0.9714285714285714\n",
      "AUC = 0.48730158730158735\n",
      "Confusion Matrix\n",
      "[[16  1]\n",
      " [ 2 34]]\n",
      "Accuracy = 0.9433962264150944\n",
      "Recall [Neg Pos] = 0.9444444444444444\n",
      "Precision [Neg Pos] = 0.9714285714285714\n",
      "F1 score [Neg Pos]  = 0.9577464788732395\n",
      "AUC = 0.5746031746031746\n",
      "Confusion Matrix\n",
      "[[16  0]\n",
      " [ 2 35]]\n",
      "Accuracy = 0.9622641509433962\n",
      "Recall [Neg Pos] = 0.9459459459459459\n",
      "Precision [Neg Pos] = 1.0\n",
      "F1 score [Neg Pos]  = 0.9722222222222222\n",
      "AUC = 0.5682539682539682\n"
     ]
    },
    {
     "data": {
      "text/plain": [
       "{'accuracy': 0.9288259958071279,\n",
       " 'precision': 0.9661111111111111,\n",
       " 'recall': 0.9298381348381348,\n",
       " 'F1': 0.9472416874027909,\n",
       " 'AUC': 0.5385309338160215}"
      ]
     },
     "execution_count": 37,
     "metadata": {},
     "output_type": "execute_result"
    },
    {
     "data": {
      "image/png": "[encoded data removed]",
      "text/plain": [
       "<Figure size 432x288 with 1 Axes>"
      ]
     },
     "metadata": {
      "needs_background": "light"
     },
     "output_type": "display_data"
    }
   ],
   "source": [
    "md.KNN_model(data_pca,target)"
   ]
  },
  {
   "cell_type": "code",
   "execution_count": 38,
   "id": "2421a059",
   "metadata": {},
   "outputs": [
    {
     "name": "stdout",
     "output_type": "stream",
     "text": [
      "Best criterion = entropy\n",
      "Best splitter = random\n",
      "Confusion Matrix\n",
      "[[16  1]\n",
      " [ 3 34]]\n",
      "Accuracy = 0.9259259259259259\n",
      "Recall [Neg Pos] = 0.918918918918919\n",
      "Precision [Neg Pos] = 0.9714285714285714\n",
      "F1 score [Neg Pos]  = 0.9444444444444445\n",
      "AUC = 0.5\n",
      "Confusion Matrix\n",
      "[[17  6]\n",
      " [ 1 30]]\n",
      "Accuracy = 0.8703703703703703\n",
      "Recall [Neg Pos] = 0.967741935483871\n",
      "Precision [Neg Pos] = 0.8333333333333334\n",
      "F1 score [Neg Pos]  = 0.8955223880597015\n",
      "AUC = 0.5\n",
      "Confusion Matrix\n",
      "[[17  7]\n",
      " [ 1 29]]\n",
      "Accuracy = 0.8518518518518519\n",
      "Recall [Neg Pos] = 0.9666666666666667\n",
      "Precision [Neg Pos] = 0.8055555555555556\n",
      "F1 score [Neg Pos]  = 0.8787878787878789\n",
      "AUC = 0.5\n",
      "Confusion Matrix\n",
      "[[14  4]\n",
      " [ 4 31]]\n",
      "Accuracy = 0.8490566037735849\n",
      "Recall [Neg Pos] = 0.8857142857142857\n",
      "Precision [Neg Pos] = 0.8857142857142857\n",
      "F1 score [Neg Pos]  = 0.8857142857142857\n",
      "AUC = 0.5\n",
      "Confusion Matrix\n",
      "[[17  3]\n",
      " [ 1 32]]\n",
      "Accuracy = 0.9245283018867925\n",
      "Recall [Neg Pos] = 0.9696969696969697\n",
      "Precision [Neg Pos] = 0.9142857142857143\n",
      "F1 score [Neg Pos]  = 0.9411764705882354\n",
      "AUC = 0.5\n",
      "Confusion Matrix\n",
      "[[17  0]\n",
      " [ 1 35]]\n",
      "Accuracy = 0.9811320754716981\n",
      "Recall [Neg Pos] = 0.9722222222222222\n",
      "Precision [Neg Pos] = 1.0\n",
      "F1 score [Neg Pos]  = 0.9859154929577464\n",
      "AUC = 0.5\n",
      "Confusion Matrix\n",
      "[[16  5]\n",
      " [ 2 30]]\n",
      "Accuracy = 0.8679245283018868\n",
      "Recall [Neg Pos] = 0.9375\n",
      "Precision [Neg Pos] = 0.8571428571428571\n",
      "F1 score [Neg Pos]  = 0.8955223880597014\n",
      "AUC = 0.5\n",
      "Confusion Matrix\n",
      "[[16  3]\n",
      " [ 2 32]]\n",
      "Accuracy = 0.9056603773584906\n",
      "Recall [Neg Pos] = 0.9411764705882353\n",
      "Precision [Neg Pos] = 0.9142857142857143\n",
      "F1 score [Neg Pos]  = 0.9275362318840579\n",
      "AUC = 0.5\n",
      "Confusion Matrix\n",
      "[[14  2]\n",
      " [ 4 33]]\n",
      "Accuracy = 0.8867924528301887\n",
      "Recall [Neg Pos] = 0.8918918918918919\n",
      "Precision [Neg Pos] = 0.9428571428571428\n",
      "F1 score [Neg Pos]  = 0.9166666666666667\n",
      "AUC = 0.5\n",
      "Confusion Matrix\n",
      "[[16  1]\n",
      " [ 2 34]]\n",
      "Accuracy = 0.9433962264150944\n",
      "Recall [Neg Pos] = 0.9444444444444444\n",
      "Precision [Neg Pos] = 0.9714285714285714\n",
      "F1 score [Neg Pos]  = 0.9577464788732395\n",
      "AUC = 0.5\n"
     ]
    },
    {
     "data": {
      "text/plain": [
       "{'accuracy': 0.9006638714185884,\n",
       " 'precision': 0.9096031746031746,\n",
       " 'recall': 0.9395973805627506,\n",
       " 'F1': 0.9229032726035957,\n",
       " 'AUC': 0.5}"
      ]
     },
     "execution_count": 38,
     "metadata": {},
     "output_type": "execute_result"
    },
    {
     "data": {
      "image/png": "[encoded data removed]",
      "text/plain": [
       "<Figure size 432x288 with 1 Axes>"
      ]
     },
     "metadata": {
      "needs_background": "light"
     },
     "output_type": "display_data"
    }
   ],
   "source": [
    "md.DT_model(data_pca,target)"
   ]
  },
  {
   "cell_type": "code",
   "execution_count": 39,
   "id": "5e03f4c4",
   "metadata": {
    "scrolled": true
   },
   "outputs": [
    {
     "name": "stdout",
     "output_type": "stream",
     "text": [
      "Best C = 233.57214690901213\n",
      "Best kernel = linear\n",
      "Confusion Matrix\n",
      "[[16  1]\n",
      " [ 3 34]]\n",
      "Accuracy = 0.9259259259259259\n",
      "Recall [Neg Pos] = 0.918918918918919\n",
      "Precision [Neg Pos] = 0.9714285714285714\n",
      "F1 score [Neg Pos]  = 0.9444444444444445\n",
      "AUC = 0.5458646616541354\n",
      "Confusion Matrix\n",
      "[[16  1]\n",
      " [ 2 35]]\n",
      "Accuracy = 0.9444444444444444\n",
      "Recall [Neg Pos] = 0.9459459459459459\n",
      "Precision [Neg Pos] = 0.9722222222222222\n",
      "F1 score [Neg Pos]  = 0.9589041095890412\n",
      "AUC = 0.6157407407407407\n",
      "Confusion Matrix\n",
      "[[15  3]\n",
      " [ 3 33]]\n",
      "Accuracy = 0.8888888888888888\n",
      "Recall [Neg Pos] = 0.9166666666666666\n",
      "Precision [Neg Pos] = 0.9166666666666666\n",
      "F1 score [Neg Pos]  = 0.9166666666666666\n",
      "AUC = 0.4675925925925926\n",
      "Confusion Matrix\n",
      "[[15  0]\n",
      " [ 3 35]]\n",
      "Accuracy = 0.9433962264150944\n",
      "Recall [Neg Pos] = 0.9210526315789473\n",
      "Precision [Neg Pos] = 1.0\n",
      "F1 score [Neg Pos]  = 0.958904109589041\n",
      "AUC = 0.5174603174603175\n",
      "Confusion Matrix\n",
      "[[16  1]\n",
      " [ 2 34]]\n",
      "Accuracy = 0.9433962264150944\n",
      "Recall [Neg Pos] = 0.9444444444444444\n",
      "Precision [Neg Pos] = 0.9714285714285714\n",
      "F1 score [Neg Pos]  = 0.9577464788732395\n",
      "AUC = 0.4904761904761905\n",
      "Confusion Matrix\n",
      "[[17  2]\n",
      " [ 1 33]]\n",
      "Accuracy = 0.9433962264150944\n",
      "Recall [Neg Pos] = 0.9705882352941176\n",
      "Precision [Neg Pos] = 0.9428571428571428\n",
      "F1 score [Neg Pos]  = 0.9565217391304348\n",
      "AUC = 0.4\n",
      "Confusion Matrix\n",
      "[[14  2]\n",
      " [ 4 33]]\n",
      "Accuracy = 0.8867924528301887\n",
      "Recall [Neg Pos] = 0.8918918918918919\n",
      "Precision [Neg Pos] = 0.9428571428571428\n",
      "F1 score [Neg Pos]  = 0.9166666666666667\n",
      "AUC = 0.3698412698412698\n",
      "Confusion Matrix\n",
      "[[16  1]\n",
      " [ 2 34]]\n",
      "Accuracy = 0.9433962264150944\n",
      "Recall [Neg Pos] = 0.9444444444444444\n",
      "Precision [Neg Pos] = 0.9714285714285714\n",
      "F1 score [Neg Pos]  = 0.9577464788732395\n",
      "AUC = 0.5031746031746032\n",
      "Confusion Matrix\n",
      "[[16  3]\n",
      " [ 2 32]]\n",
      "Accuracy = 0.9056603773584906\n",
      "Recall [Neg Pos] = 0.9411764705882353\n",
      "Precision [Neg Pos] = 0.9142857142857143\n",
      "F1 score [Neg Pos]  = 0.9275362318840579\n",
      "AUC = 0.35396825396825393\n",
      "Confusion Matrix\n",
      "[[15  0]\n",
      " [ 3 35]]\n",
      "Accuracy = 0.9433962264150944\n",
      "Recall [Neg Pos] = 0.9210526315789473\n",
      "Precision [Neg Pos] = 1.0\n",
      "F1 score [Neg Pos]  = 0.958904109589041\n",
      "AUC = 0.4301587301587302\n"
     ]
    },
    {
     "data": {
      "text/plain": [
       "{'accuracy': 0.926869322152341,\n",
       " 'precision': 0.9603174603174602,\n",
       " 'recall': 0.9316182281352561,\n",
       " 'F1': 0.9454041035305872,\n",
       " 'AUC': 0.46942773600668336}"
      ]
     },
     "execution_count": 39,
     "metadata": {},
     "output_type": "execute_result"
    },
    {
     "data": {
      "image/png": "[encoded data removed]",
      "text/plain": [
       "<Figure size 432x288 with 1 Axes>"
      ]
     },
     "metadata": {
      "needs_background": "light"
     },
     "output_type": "display_data"
    }
   ],
   "source": [
    "md.SVM_model(data_pca,target)"
   ]
  },
  {
   "cell_type": "markdown",
   "id": "eefd89ab",
   "metadata": {},
   "source": [
    "# Classification Test - Categorical Input Features"
   ]
  },
  {
   "cell_type": "markdown",
   "id": "96cf8028",
   "metadata": {},
   "source": [
    "## Preprocessing"
   ]
  },
  {
   "cell_type": "code",
   "execution_count": 40,
   "id": "d56c19f3",
   "metadata": {},
   "outputs": [],
   "source": [
    "data = pd.read_csv('datasets/heart_failure.csv')"
   ]
  },
  {
   "cell_type": "code",
   "execution_count": 41,
   "id": "950f24b2",
   "metadata": {},
   "outputs": [
    {
     "name": "stdout",
     "output_type": "stream",
     "text": [
      "Modeling with field specifications:\n",
      "age: numeric\n",
      "anaemia: categorical\n",
      "creatinine_phosphokinase: numeric\n",
      "diabetes: categorical\n",
      "ejection_fraction: numeric\n",
      "high_blood_pressure: categorical\n",
      "platelets: numeric\n",
      "serum_creatinine: numeric\n",
      "serum_sodium: numeric\n",
      "sex: categorical\n",
      "smoking: categorical\n",
      "time: numeric\n",
      "DEATH_EVENT: categorical\n"
     ]
    }
   ],
   "source": [
    "field_types_raw = pp.get_input_types(data)"
   ]
  },
  {
   "cell_type": "code",
   "execution_count": 42,
   "id": "0596ee21",
   "metadata": {},
   "outputs": [
    {
     "name": "stdout",
     "output_type": "stream",
     "text": [
      "column name changes\n",
      "age: age\n",
      "anaemia: anaemia\n",
      "creatinine_phosphokinase: creatinine_phosphokinase\n",
      "diabetes: diabetes\n",
      "ejection_fraction: ejection_fraction\n",
      "high_blood_pressure: high_blood_pressure\n",
      "platelets: platelets\n",
      "serum_creatinine: serum_creatinine\n",
      "serum_sodium: serum_sodium\n",
      "sex: sex\n",
      "smoking: smoking\n",
      "time: time\n",
      "DEATH_EVENT: death_event\n"
     ]
    }
   ],
   "source": [
    "field_types = pp.normalize_col_names(data,field_types_raw)"
   ]
  },
  {
   "cell_type": "code",
   "execution_count": 43,
   "id": "177c8d2a",
   "metadata": {},
   "outputs": [],
   "source": [
    "target='death_event'"
   ]
  },
  {
   "cell_type": "code",
   "execution_count": 44,
   "id": "0f311713",
   "metadata": {},
   "outputs": [
    {
     "name": "stdout",
     "output_type": "stream",
     "text": [
      "classification\n"
     ]
    }
   ],
   "source": [
    "problem = pp.identify_problem_type(data,field_types,target)\n",
    "print(problem)"
   ]
  },
  {
   "cell_type": "code",
   "execution_count": 45,
   "id": "beb12b52",
   "metadata": {},
   "outputs": [],
   "source": [
    "data_prop, field_types = pp.proper_dataframe(data,field_types,target,problem)"
   ]
  },
  {
   "cell_type": "code",
   "execution_count": 46,
   "id": "d419de81",
   "metadata": {},
   "outputs": [
    {
     "name": "stdout",
     "output_type": "stream",
     "text": [
      "No null values found\n"
     ]
    }
   ],
   "source": [
    "data_no_null,drop_cols = pp.handle_null_values(data_prop)"
   ]
  },
  {
   "cell_type": "code",
   "execution_count": 47,
   "id": "325da7f2",
   "metadata": {},
   "outputs": [],
   "source": [
    "data_norm = pp.normalisation(data_no_null,target,field_types)"
   ]
  },
  {
   "cell_type": "code",
   "execution_count": 48,
   "id": "f80bc075",
   "metadata": {},
   "outputs": [],
   "source": [
    "count = pp.remove_outliers(data_norm,target,field_types)"
   ]
  },
  {
   "cell_type": "code",
   "execution_count": 49,
   "id": "df614080",
   "metadata": {},
   "outputs": [
    {
     "name": "stdout",
     "output_type": "stream",
     "text": [
      "76\n"
     ]
    }
   ],
   "source": [
    "print(count)"
   ]
  },
  {
   "cell_type": "code",
   "execution_count": 50,
   "id": "d68ea88a",
   "metadata": {},
   "outputs": [
    {
     "name": "stdout",
     "output_type": "stream",
     "text": [
      "0\n"
     ]
    }
   ],
   "source": [
    "data_pca,n = pp.pca_df(data_norm,target,field_types)\n",
    "print(n)"
   ]
  },
  {
   "cell_type": "code",
   "execution_count": 51,
   "id": "97e50da2",
   "metadata": {},
   "outputs": [],
   "source": [
    "pp.save_final_df(data_pca,'heart_failure')"
   ]
  },
  {
   "cell_type": "code",
   "execution_count": 52,
   "id": "3874b374",
   "metadata": {},
   "outputs": [
    {
     "data": {
      "text/html": [
       "<div>\n",
       "<style scoped>\n",
       "    .dataframe tbody tr th:only-of-type {\n",
       "        vertical-align: middle;\n",
       "    }\n",
       "\n",
       "    .dataframe tbody tr th {\n",
       "        vertical-align: top;\n",
       "    }\n",
       "\n",
       "    .dataframe thead th {\n",
       "        text-align: right;\n",
       "    }\n",
       "</style>\n",
       "<table border=\"1\" class=\"dataframe\">\n",
       "  <thead>\n",
       "    <tr style=\"text-align: right;\">\n",
       "      <th></th>\n",
       "      <th>age</th>\n",
       "      <th>creatinine_phosphokinase</th>\n",
       "      <th>ejection_fraction</th>\n",
       "      <th>platelets</th>\n",
       "      <th>serum_creatinine</th>\n",
       "      <th>serum_sodium</th>\n",
       "      <th>time</th>\n",
       "      <th>death_event</th>\n",
       "    </tr>\n",
       "  </thead>\n",
       "  <tbody>\n",
       "    <tr>\n",
       "      <th>0</th>\n",
       "      <td>1.192945</td>\n",
       "      <td>0.000166</td>\n",
       "      <td>-1.530560</td>\n",
       "      <td>0.016816</td>\n",
       "      <td>0.490057</td>\n",
       "      <td>-1.504036</td>\n",
       "      <td>-1.629502</td>\n",
       "      <td>1</td>\n",
       "    </tr>\n",
       "    <tr>\n",
       "      <th>1</th>\n",
       "      <td>0.350833</td>\n",
       "      <td>-0.449939</td>\n",
       "      <td>-1.530560</td>\n",
       "      <td>-1.038073</td>\n",
       "      <td>-0.090900</td>\n",
       "      <td>-1.731046</td>\n",
       "      <td>-1.590785</td>\n",
       "      <td>1</td>\n",
       "    </tr>\n",
       "    <tr>\n",
       "      <th>2</th>\n",
       "      <td>-0.912335</td>\n",
       "      <td>-0.486071</td>\n",
       "      <td>-1.530560</td>\n",
       "      <td>-0.546474</td>\n",
       "      <td>0.490057</td>\n",
       "      <td>0.085034</td>\n",
       "      <td>-1.590785</td>\n",
       "      <td>1</td>\n",
       "    </tr>\n",
       "    <tr>\n",
       "      <th>3</th>\n",
       "      <td>2.456114</td>\n",
       "      <td>-0.552141</td>\n",
       "      <td>0.162199</td>\n",
       "      <td>-0.607924</td>\n",
       "      <td>0.683709</td>\n",
       "      <td>-1.050016</td>\n",
       "      <td>-1.577879</td>\n",
       "      <td>1</td>\n",
       "    </tr>\n",
       "    <tr>\n",
       "      <th>4</th>\n",
       "      <td>1.192945</td>\n",
       "      <td>-0.346704</td>\n",
       "      <td>-1.953749</td>\n",
       "      <td>-1.396531</td>\n",
       "      <td>-0.187726</td>\n",
       "      <td>0.085034</td>\n",
       "      <td>-1.552067</td>\n",
       "      <td>1</td>\n",
       "    </tr>\n",
       "  </tbody>\n",
       "</table>\n",
       "</div>"
      ],
      "text/plain": [
       "        age  creatinine_phosphokinase  ejection_fraction  platelets  \\\n",
       "0  1.192945                  0.000166          -1.530560   0.016816   \n",
       "1  0.350833                 -0.449939          -1.530560  -1.038073   \n",
       "2 -0.912335                 -0.486071          -1.530560  -0.546474   \n",
       "3  2.456114                 -0.552141           0.162199  -0.607924   \n",
       "4  1.192945                 -0.346704          -1.953749  -1.396531   \n",
       "\n",
       "   serum_creatinine  serum_sodium      time  death_event  \n",
       "0          0.490057     -1.504036 -1.629502            1  \n",
       "1         -0.090900     -1.731046 -1.590785            1  \n",
       "2          0.490057      0.085034 -1.590785            1  \n",
       "3          0.683709     -1.050016 -1.577879            1  \n",
       "4         -0.187726      0.085034 -1.552067            1  "
      ]
     },
     "execution_count": 52,
     "metadata": {},
     "output_type": "execute_result"
    }
   ],
   "source": [
    "data_pca.head()"
   ]
  },
  {
   "cell_type": "markdown",
   "id": "35c9d971",
   "metadata": {},
   "source": [
    "## Modelling"
   ]
  },
  {
   "cell_type": "code",
   "execution_count": 53,
   "id": "834fecf7",
   "metadata": {},
   "outputs": [
    {
     "name": "stdout",
     "output_type": "stream",
     "text": [
      "Confusion Matrix\n",
      "[[15  4]\n",
      " [ 1  3]]\n",
      "Accuracy = 0.782608695652174\n",
      "Recall [Neg Pos] = 0.75\n",
      "Precision [Neg Pos] = 0.42857142857142855\n",
      "F1 score [Neg Pos]  = 0.5454545454545454\n",
      "AUC = 0.36607142857142855\n",
      "Confusion Matrix\n",
      "[[17  3]\n",
      " [ 0  3]]\n",
      "Accuracy = 0.8695652173913043\n",
      "Recall [Neg Pos] = 1.0\n",
      "Precision [Neg Pos] = 0.5\n",
      "F1 score [Neg Pos]  = 0.6666666666666666\n",
      "AUC = 0.1568627450980392\n",
      "Confusion Matrix\n",
      "[[17  2]\n",
      " [ 0  4]]\n",
      "Accuracy = 0.9130434782608695\n",
      "Recall [Neg Pos] = 1.0\n",
      "Precision [Neg Pos] = 0.6666666666666666\n",
      "F1 score [Neg Pos]  = 0.8\n",
      "AUC = 0.2058823529411765\n",
      "Confusion Matrix\n",
      "[[14  2]\n",
      " [ 2  4]]\n",
      "Accuracy = 0.8181818181818182\n",
      "Recall [Neg Pos] = 0.6666666666666666\n",
      "Precision [Neg Pos] = 0.6666666666666666\n",
      "F1 score [Neg Pos]  = 0.6666666666666666\n",
      "AUC = 0.45833333333333337\n",
      "Confusion Matrix\n",
      "[[16  0]\n",
      " [ 0  6]]\n",
      "Accuracy = 1.0\n",
      "Recall [Neg Pos] = 1.0\n",
      "Precision [Neg Pos] = 1.0\n",
      "F1 score [Neg Pos]  = 1.0\n",
      "AUC = 0.26041666666666663\n",
      "Confusion Matrix\n",
      "[[13  2]\n",
      " [ 3  4]]\n",
      "Accuracy = 0.7727272727272727\n",
      "Recall [Neg Pos] = 0.5714285714285714\n",
      "Precision [Neg Pos] = 0.6666666666666666\n",
      "F1 score [Neg Pos]  = 0.6153846153846153\n",
      "AUC = 0.11458333333333333\n",
      "Confusion Matrix\n",
      "[[16  2]\n",
      " [ 0  4]]\n",
      "Accuracy = 0.9090909090909091\n",
      "Recall [Neg Pos] = 1.0\n",
      "Precision [Neg Pos] = 0.6666666666666666\n",
      "F1 score [Neg Pos]  = 0.8\n",
      "AUC = 0.4583333333333333\n",
      "Confusion Matrix\n",
      "[[13  3]\n",
      " [ 3  3]]\n",
      "Accuracy = 0.7272727272727273\n",
      "Recall [Neg Pos] = 0.5\n",
      "Precision [Neg Pos] = 0.5\n",
      "F1 score [Neg Pos]  = 0.5\n",
      "AUC = 0.17708333333333334\n",
      "Confusion Matrix\n",
      "[[15  0]\n",
      " [ 1  6]]\n",
      "Accuracy = 0.9545454545454546\n",
      "Recall [Neg Pos] = 0.8571428571428571\n",
      "Precision [Neg Pos] = 1.0\n",
      "F1 score [Neg Pos]  = 0.923076923076923\n",
      "AUC = 0.5104166666666666\n",
      "Confusion Matrix\n",
      "[[13  3]\n",
      " [ 3  3]]\n",
      "Accuracy = 0.7272727272727273\n",
      "Recall [Neg Pos] = 0.5\n",
      "Precision [Neg Pos] = 0.5\n",
      "F1 score [Neg Pos]  = 0.5\n",
      "AUC = 0.19791666666666669\n"
     ]
    },
    {
     "data": {
      "text/plain": [
       "{'accuracy': 0.8474308300395256,\n",
       " 'precision': 0.6595238095238095,\n",
       " 'recall': 0.7845238095238094,\n",
       " 'F1': 0.7017249417249417,\n",
       " 'AUC': 0.2905899859943977}"
      ]
     },
     "execution_count": 53,
     "metadata": {},
     "output_type": "execute_result"
    },
    {
     "data": {
      "image/png": "[encoded data removed]",
      "text/plain": [
       "<Figure size 432x288 with 1 Axes>"
      ]
     },
     "metadata": {
      "needs_background": "light"
     },
     "output_type": "display_data"
    }
   ],
   "source": [
    "md.G_NB_measures(data_pca,target)"
   ]
  },
  {
   "cell_type": "code",
   "execution_count": null,
   "id": "a762fcc8",
   "metadata": {},
   "outputs": [],
   "source": []
  }
 ],
 "metadata": {
  "kernelspec": {
   "display_name": "autoML",
   "language": "python",
   "name": "automl"
  },
  "language_info": {
   "codemirror_mode": {
    "name": "ipython",
    "version": 3
   },
   "file_extension": ".py",
   "mimetype": "text/x-python",
   "name": "python",
   "nbconvert_exporter": "python",
   "pygments_lexer": "ipython3",
   "version": "3.9.7"
  }
 },
 "nbformat": 4,
 "nbformat_minor": 5
}
